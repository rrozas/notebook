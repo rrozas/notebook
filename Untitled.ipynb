{
 "cells": [
  {
   "cell_type": "code",
   "execution_count": 1,
   "metadata": {
    "collapsed": true
   },
   "outputs": [],
   "source": [
    "! cd c:/Users/ROZASR/Downloads/"
   ]
  },
  {
   "cell_type": "code",
   "execution_count": 3,
   "metadata": {
    "collapsed": true
   },
   "outputs": [],
   "source": [
    "from bokeh.plotting import figure, output_file, show\n",
    "\n",
    "# prepare some data\n",
    "x = [1, 2, 3, 4, 5]\n",
    "y = [6, 7, 2, 4, 5]\n",
    "\n",
    "# output to static HTML file\n",
    "output_file(\"lines.html\")\n",
    "\n",
    "# create a new plot with a title and axis labels\n",
    "p = figure(title=\"simple line example\", x_axis_label='x', y_axis_label='y')\n",
    "\n",
    "# add a line renderer with legend and line thickness\n",
    "p.line(x, y, legend=\"Temp.\", line_width=2)\n",
    "\n",
    "# show the results\n",
    "show(p)"
   ]
  },
  {
   "cell_type": "code",
   "execution_count": 25,
   "metadata": {},
   "outputs": [
    {
     "name": "stdout",
     "output_type": "stream",
     "text": [
      "Processing c:\\users\\rozasr\\downloads\\urlparse2-1.1.1.tar.gz\n",
      "Requirement already satisfied: recordtype in c:\\users\\rozasr\\appdata\\local\\continuum\\anaconda3\\lib\\site-packages (from urlparse2==1.1.1)\n",
      "Building wheels for collected packages: urlparse2\n",
      "  Running setup.py bdist_wheel for urlparse2: started\n",
      "  Running setup.py bdist_wheel for urlparse2: finished with status 'done'\n",
      "  Stored in directory: C:\\Users\\ROZASR\\AppData\\Local\\pip\\Cache\\wheels\\a8\\e8\\57\\6fc064e0a8e22a4f873714d6e985da9f5db33155f011bc8918\n",
      "Successfully built urlparse2\n",
      "Installing collected packages: urlparse2\n",
      "Successfully installed urlparse2-1.1.1\n"
     ]
    }
   ],
   "source": [
    "!pip install c:/Users/ROZASR/Downloads/urlparse2-1.1.1.tar.gz"
   ]
  },
  {
   "cell_type": "code",
   "execution_count": 27,
   "metadata": {},
   "outputs": [
    {
     "name": "stderr",
     "output_type": "stream",
     "text": [
      "C:\\Users\\ROZASR\\AppData\\Local\\Continuum\\anaconda3\\lib\\site-packages\\ggplot\\utils.py:81: FutureWarning: pandas.tslib is deprecated and will be removed in a future version.\n",
      "You can access Timestamp as pandas.Timestamp\n",
      "  pd.tslib.Timestamp,\n",
      "C:\\Users\\ROZASR\\AppData\\Local\\Continuum\\anaconda3\\lib\\site-packages\\ggplot\\stats\\smoothers.py:4: FutureWarning: The pandas.lib module is deprecated and will be removed in a future version. These are private functions and can be accessed from pandas._libs.lib instead\n",
      "  from pandas.lib import Timestamp\n",
      "C:\\Users\\ROZASR\\AppData\\Local\\Continuum\\anaconda3\\lib\\site-packages\\statsmodels\\compat\\pandas.py:56: FutureWarning: The pandas.core.datetools module is deprecated and will be removed in a future version. Please use the pandas.tseries module instead.\n",
      "  from pandas.core import datetools\n",
      "Traceback (most recent call last):\n",
      "  File \"c:/Users/ROZASR/Documents/Python/gleam_exemple.py\", line 3, in <module>\n",
      "    from gleam import Page, panels\n",
      "  File \"C:\\Users\\ROZASR\\AppData\\Local\\Continuum\\anaconda3\\lib\\site-packages\\gleam\\panels.py\", line 98\n",
      "    print h\n",
      "          ^\n",
      "SyntaxError: Missing parentheses in call to 'print'. Did you mean print(print h)?\n"
     ]
    }
   ],
   "source": [
    "!python c:/Users/ROZASR/Documents/Python/gleam_exemple.py"
   ]
  },
  {
   "cell_type": "code",
   "execution_count": 30,
   "metadata": {},
   "outputs": [
    {
     "name": "stdout",
     "output_type": "stream",
     "text": [
      "Fetching package metadata ...\n"
     ]
    },
    {
     "name": "stderr",
     "output_type": "stream",
     "text": [
      "\n",
      "CondaHTTPError: HTTP 000 CONNECTION FAILED for url <https://repo.continuum.io/pkgs/main/win-64/repodata.json.bz2>\n",
      "Elapsed: -\n",
      "\n",
      "An HTTP error occurred when trying to retrieve this URL.\n",
      "HTTP errors are often intermittent, and a simple retry will get you on your way.\n",
      "SSLError(MaxRetryError('HTTPSConnectionPool(host=\\'repo.continuum.io\\', port=443): Max retries exceeded with url: /pkgs/main/win-64/repodata.json.bz2 (Caused by SSLError(SSLError(\"bad handshake: SysCallError(10054, \\'WSAECONNRESET\\')\",),))',),)\n",
      "\n",
      "\n"
     ]
    }
   ],
   "source": [
    "!conda create -n py27 python=2.7 ipykernel"
   ]
  },
  {
   "cell_type": "code",
   "execution_count": null,
   "metadata": {
    "collapsed": true
   },
   "outputs": [],
   "source": []
  }
 ],
 "metadata": {
  "kernelspec": {
   "display_name": "Python 3",
   "language": "python",
   "name": "python3"
  },
  "language_info": {
   "codemirror_mode": {
    "name": "ipython",
    "version": 3
   },
   "file_extension": ".py",
   "mimetype": "text/x-python",
   "name": "python",
   "nbconvert_exporter": "python",
   "pygments_lexer": "ipython3",
   "version": "3.6.3"
  }
 },
 "nbformat": 4,
 "nbformat_minor": 2
}
